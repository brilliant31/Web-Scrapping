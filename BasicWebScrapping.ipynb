{
  "nbformat": 4,
  "nbformat_minor": 0,
  "metadata": {
    "colab": {
      "provenance": [],
      "authorship_tag": "ABX9TyNHPnBHdsETwvDtAbSPtM0g",
      "include_colab_link": true
    },
    "kernelspec": {
      "name": "python3",
      "display_name": "Python 3"
    },
    "language_info": {
      "name": "python"
    }
  },
  "cells": [
    {
      "cell_type": "markdown",
      "metadata": {
        "id": "view-in-github",
        "colab_type": "text"
      },
      "source": [
        "<a href=\"https://colab.research.google.com/github/brilliant31/Web-Scrapping/blob/main/BasicWebScrapping.ipynb\" target=\"_parent\"><img src=\"https://colab.research.google.com/assets/colab-badge.svg\" alt=\"Open In Colab\"/></a>"
      ]
    },
    {
      "cell_type": "code",
      "execution_count": 1,
      "metadata": {
        "id": "okB1Z-xCPTQD"
      },
      "outputs": [],
      "source": [
        "import requests\n",
        "from bs4 import BeautifulSoup\n",
        "\n",
        "url = 'https://en.wikipedia.org/wiki/Web_scraping'\n",
        "response = requests.get(url)"
      ]
    },
    {
      "cell_type": "markdown",
      "source": [],
      "metadata": {
        "id": "_oZouzwLPflC"
      }
    },
    {
      "cell_type": "code",
      "source": [
        "import requests\n",
        "from bs4 import BeautifulSoup\n",
        "\n",
        "url = 'http://quotes.toscrape.com/'\n",
        "response = requests.get(url)\n",
        "\n",
        "soup = BeautifulSoup(response.text, 'html.parser')\n",
        "\n",
        "# Extract quotes\n",
        "quotes = soup.find_all('span', class_='text')\n",
        "authors = soup.find_all('small', class_='author')\n",
        "\n",
        "for quote, author in zip(quotes, authors):\n",
        "    print(f'{quote.text} - {author.text}')\n"
      ],
      "metadata": {
        "colab": {
          "base_uri": "https://localhost:8080/"
        },
        "id": "4PWsyx03Pf8a",
        "outputId": "9157bd4b-83a2-45a8-da9c-87a3cd3c81e2"
      },
      "execution_count": 2,
      "outputs": [
        {
          "output_type": "stream",
          "name": "stdout",
          "text": [
            "“The world as we have created it is a process of our thinking. It cannot be changed without changing our thinking.” - Albert Einstein\n",
            "“It is our choices, Harry, that show what we truly are, far more than our abilities.” - J.K. Rowling\n",
            "“There are only two ways to live your life. One is as though nothing is a miracle. The other is as though everything is a miracle.” - Albert Einstein\n",
            "“The person, be it gentleman or lady, who has not pleasure in a good novel, must be intolerably stupid.” - Jane Austen\n",
            "“Imperfection is beauty, madness is genius and it's better to be absolutely ridiculous than absolutely boring.” - Marilyn Monroe\n",
            "“Try not to become a man of success. Rather become a man of value.” - Albert Einstein\n",
            "“It is better to be hated for what you are than to be loved for what you are not.” - André Gide\n",
            "“I have not failed. I've just found 10,000 ways that won't work.” - Thomas A. Edison\n",
            "“A woman is like a tea bag; you never know how strong it is until it's in hot water.” - Eleanor Roosevelt\n",
            "“A day without sunshine is like, you know, night.” - Steve Martin\n"
          ]
        }
      ]
    },
    {
      "cell_type": "code",
      "source": [
        "import requests\n",
        "from bs4 import BeautifulSoup\n",
        "import openpyxl\n",
        "\n",
        "# Function to scrape a single page\n",
        "def scrape_page(url, sheet):\n",
        "    response = requests.get(url)\n",
        "    soup = BeautifulSoup(response.text, 'html.parser')\n",
        "\n",
        "    # Find all quote containers\n",
        "    quote_divs = soup.find_all('div', class_='quote')\n",
        "\n",
        "    # Loop through all the quotes on the page\n",
        "    for div in quote_divs:\n",
        "        quote = div.find('span', class_='text').text.strip()\n",
        "        author = div.find('small', class_='author').text.strip()\n",
        "        tags = ', '.join([tag.text for tag in div.find_all('a', class_='tag')])\n",
        "\n",
        "        # Add data to Excel\n",
        "        sheet.append([quote, author, tags])\n",
        "\n",
        "# Function to handle pagination\n",
        "def scrape_all_pages(start_url, sheet):\n",
        "    current_url = start_url\n",
        "\n",
        "    # Keep scraping while there's a next page\n",
        "    while current_url:\n",
        "        print(f\"Scraping {current_url}...\")\n",
        "        scrape_page(current_url, sheet)\n",
        "\n",
        "        # Find the 'next' button and construct the next page URL if available\n",
        "        response = requests.get(current_url)\n",
        "        soup = BeautifulSoup(response.text, 'html.parser')\n",
        "        next_page = soup.find('li', class_='next')\n",
        "        print(next_page)\n",
        "        if next_page:\n",
        "            next_url = next_page.find('a')['href']\n",
        "            print(next_url)\n",
        "            current_url = start_url + next_url  # Create the full URL for the next page\n",
        "        else:\n",
        "            current_url = None  # No more pages to scrape\n",
        "\n",
        "# Create a new Excel workbook and sheet\n",
        "workbook = openpyxl.Workbook()\n",
        "sheet = workbook.active\n",
        "sheet.title = 'Quotes'\n",
        "\n",
        "# Add column headers to the Excel file\n",
        "sheet.append(['Quote', 'Author', 'Tags'])\n",
        "\n",
        "# Start URL of the website\n",
        "start_url = 'http://quotes.toscrape.com'\n",
        "\n",
        "# Scrape all pages\n",
        "scrape_all_pages(start_url, sheet)\n",
        "\n",
        "# Save the workbook to an Excel file\n",
        "workbook.save('quotes_with_pagination.xlsx')\n",
        "\n",
        "print('Scraping complete. Data saved to quotes_with_pagination.xlsx')\n"
      ],
      "metadata": {
        "colab": {
          "base_uri": "https://localhost:8080/"
        },
        "id": "3JkLoUrPRRDr",
        "outputId": "27e8ba1c-4c58-4a69-a26f-6386ffb75602"
      },
      "execution_count": 5,
      "outputs": [
        {
          "output_type": "stream",
          "name": "stdout",
          "text": [
            "Scraping http://quotes.toscrape.com...\n",
            "<li class=\"next\">\n",
            "<a href=\"/page/2/\">Next <span aria-hidden=\"true\">→</span></a>\n",
            "</li>\n",
            "/page/2/\n",
            "Scraping http://quotes.toscrape.com/page/2/...\n",
            "<li class=\"next\">\n",
            "<a href=\"/page/3/\">Next <span aria-hidden=\"true\">→</span></a>\n",
            "</li>\n",
            "/page/3/\n",
            "Scraping http://quotes.toscrape.com/page/3/...\n",
            "<li class=\"next\">\n",
            "<a href=\"/page/4/\">Next <span aria-hidden=\"true\">→</span></a>\n",
            "</li>\n",
            "/page/4/\n",
            "Scraping http://quotes.toscrape.com/page/4/...\n",
            "<li class=\"next\">\n",
            "<a href=\"/page/5/\">Next <span aria-hidden=\"true\">→</span></a>\n",
            "</li>\n",
            "/page/5/\n",
            "Scraping http://quotes.toscrape.com/page/5/...\n",
            "<li class=\"next\">\n",
            "<a href=\"/page/6/\">Next <span aria-hidden=\"true\">→</span></a>\n",
            "</li>\n",
            "/page/6/\n",
            "Scraping http://quotes.toscrape.com/page/6/...\n",
            "<li class=\"next\">\n",
            "<a href=\"/page/7/\">Next <span aria-hidden=\"true\">→</span></a>\n",
            "</li>\n",
            "/page/7/\n",
            "Scraping http://quotes.toscrape.com/page/7/...\n",
            "<li class=\"next\">\n",
            "<a href=\"/page/8/\">Next <span aria-hidden=\"true\">→</span></a>\n",
            "</li>\n",
            "/page/8/\n",
            "Scraping http://quotes.toscrape.com/page/8/...\n",
            "<li class=\"next\">\n",
            "<a href=\"/page/9/\">Next <span aria-hidden=\"true\">→</span></a>\n",
            "</li>\n",
            "/page/9/\n",
            "Scraping http://quotes.toscrape.com/page/9/...\n",
            "<li class=\"next\">\n",
            "<a href=\"/page/10/\">Next <span aria-hidden=\"true\">→</span></a>\n",
            "</li>\n",
            "/page/10/\n",
            "Scraping http://quotes.toscrape.com/page/10/...\n",
            "None\n",
            "Scraping complete. Data saved to quotes_with_pagination.xlsx\n"
          ]
        }
      ]
    }
  ]
}